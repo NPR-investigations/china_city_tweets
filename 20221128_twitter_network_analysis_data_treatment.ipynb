{
 "cells": [
  {
   "cell_type": "code",
   "execution_count": 1,
   "id": "important-juvenile",
   "metadata": {},
   "outputs": [],
   "source": [
    "import requests\n",
    "import os\n",
    "import json\n",
    "import pandas as pd\n",
    "import time\n",
    "import codecs\n",
    "import matplotlib.pyplot as plt\n",
    "import seaborn as sns"
   ]
  },
  {
   "cell_type": "code",
   "execution_count": 2,
   "id": "noble-novelty",
   "metadata": {},
   "outputs": [],
   "source": [
    "import random"
   ]
  },
  {
   "cell_type": "code",
   "execution_count": 3,
   "id": "discrete-glenn",
   "metadata": {},
   "outputs": [],
   "source": [
    "os.chdir('Documents/20221127_china_city_tweets/')"
   ]
  },
  {
   "cell_type": "code",
   "execution_count": 4,
   "id": "according-soldier",
   "metadata": {},
   "outputs": [],
   "source": [
    "tweets = pd.DataFrame()"
   ]
  },
  {
   "cell_type": "code",
   "execution_count": 5,
   "id": "under-reserve",
   "metadata": {},
   "outputs": [],
   "source": [
    "list1 = [x for x in os.listdir() if \"without_retweets\" in x]"
   ]
  },
  {
   "cell_type": "code",
   "execution_count": 6,
   "id": "periodic-condition",
   "metadata": {},
   "outputs": [
    {
     "data": {
      "text/plain": [
       "['2022-11-28_beishangguang_tweets_without_retweets_2022-11-21T170300Z_2022-11-25T215101Z.csv',\n",
       " '2022-11-28_beishangguang_tweets_without_retweets_2022-11-21T190300Z_2022-11-22T154738Z.csv',\n",
       " '2022-11-28_beishangguang_tweets_without_retweets_2022-11-21T220300Z_2022-11-22T132521Z.csv',\n",
       " '2022-11-29_beishangguang_tweets_without_retweets_2022-11-27T000000Z_2022-11-28T210000Z.csv',\n",
       " '2022-11-29_beishangguang_tweets_without_retweets_2022-11-28T210000Z_2022-11-29T140000Z.csv',\n",
       " '2022-11-30_beishangguang_tweets_without_retweets_2022-11-29T140000Z_2022-11-30T140000Z.csv',\n",
       " '2022-12-02_beishangguang_tweets_without_retweets_2022-11-30T140000Z_2022-12-01T140000Z.csv']"
      ]
     },
     "execution_count": 6,
     "metadata": {},
     "output_type": "execute_result"
    }
   ],
   "source": [
    "list1"
   ]
  },
  {
   "cell_type": "code",
   "execution_count": 7,
   "id": "worthy-drawing",
   "metadata": {
    "scrolled": true
   },
   "outputs": [],
   "source": [
    "for path in list1:\n",
    "    df = pd.read_csv(path, low_memory = False)\n",
    "    tweets = tweets.append(df)"
   ]
  },
  {
   "cell_type": "code",
   "execution_count": 8,
   "id": "hazardous-quebec",
   "metadata": {},
   "outputs": [],
   "source": [
    "tweets = tweets.drop('Unnamed: 0', axis = 1)"
   ]
  },
  {
   "cell_type": "code",
   "execution_count": 9,
   "id": "silver-pointer",
   "metadata": {},
   "outputs": [],
   "source": [
    "tweets = tweets.drop_duplicates()"
   ]
  },
  {
   "cell_type": "code",
   "execution_count": 10,
   "id": "grand-reasoning",
   "metadata": {},
   "outputs": [
    {
     "name": "stdout",
     "output_type": "stream",
     "text": [
      "<class 'pandas.core.frame.DataFrame'>\n",
      "Int64Index: 3279012 entries, 0 to 261330\n",
      "Data columns (total 21 columns):\n",
      " #   Column                  Dtype  \n",
      "---  ------                  -----  \n",
      " 0   referenced_tweets       object \n",
      " 1   created_at              object \n",
      " 2   conversation_id         int64  \n",
      " 3   reply_settings          object \n",
      " 4   author_id               int64  \n",
      " 5   edit_history_tweet_ids  object \n",
      " 6   entities                object \n",
      " 7   possibly_sensitive      bool   \n",
      " 8   lang                    object \n",
      " 9   attachments             object \n",
      " 10  text                    object \n",
      " 11  id                      int64  \n",
      " 12  source                  object \n",
      " 13  context_annotations     object \n",
      " 14  in_reply_to_user_id     float64\n",
      " 15  geo                     object \n",
      " 16  withheld                object \n",
      " 17  retweet_count           int64  \n",
      " 18  reply_count             int64  \n",
      " 19  like_count              int64  \n",
      " 20  quote_count             int64  \n",
      "dtypes: bool(1), float64(1), int64(7), object(12)\n",
      "memory usage: 528.5+ MB\n"
     ]
    }
   ],
   "source": [
    "tweets.info()"
   ]
  },
  {
   "cell_type": "code",
   "execution_count": 11,
   "id": "smooth-alabama",
   "metadata": {},
   "outputs": [],
   "source": [
    "tweets.created_at = [pd.to_datetime(x) for x in tweets.created_at]"
   ]
  },
  {
   "cell_type": "code",
   "execution_count": 13,
   "id": "registered-republican",
   "metadata": {},
   "outputs": [
    {
     "data": {
      "text/plain": [
       "Timestamp('2022-12-01 13:59:59+0000', tz='UTC')"
      ]
     },
     "execution_count": 13,
     "metadata": {},
     "output_type": "execute_result"
    }
   ],
   "source": [
    "tweets.created_at.max()"
   ]
  },
  {
   "cell_type": "code",
   "execution_count": 14,
   "id": "magnetic-state",
   "metadata": {},
   "outputs": [],
   "source": [
    "tweets['date'] = [x.date() for x in tweets.created_at]\n",
    "tweets['hour'] = [x.hour for x in tweets.created_at]\n",
    "tweets['date_hour'] = [str(x) + '-' + str(y) for (x,y) in zip(tweets.date, tweets.hour)]"
   ]
  },
  {
   "cell_type": "code",
   "execution_count": 15,
   "id": "split-zambia",
   "metadata": {},
   "outputs": [],
   "source": [
    "def show_chart(df):\n",
    "    volbydate = pd.DataFrame(df.groupby('date_hour').created_at.count())\n",
    "    volbydate = volbydate.sort_values('date_hour')\n",
    "    volbydate = volbydate.reset_index()\n",
    "    fig, axs = plt.subplots(1, 1,figsize=(20, 6))\n",
    "    sns.barplot(volbydate.date_hour, volbydate.created_at, color = 'grey')\n",
    "    plt.xticks(rotation= 45)"
   ]
  },
  {
   "cell_type": "code",
   "execution_count": 16,
   "id": "local-sociology",
   "metadata": {
    "scrolled": true
   },
   "outputs": [
    {
     "name": "stdout",
     "output_type": "stream",
     "text": [
      "Hourly tweet volume\n"
     ]
    },
    {
     "data": {
      "image/png": "[encoded data removed]",
      "text/plain": [
       "<Figure size 1440x432 with 1 Axes>"
      ]
     },
     "metadata": {
      "needs_background": "light"
     },
     "output_type": "display_data"
    }
   ],
   "source": [
    "print('Hourly tweet volume')\n",
    "show_chart(tweets)"
   ]
  },
  {
   "cell_type": "markdown",
   "id": "thermal-driving",
   "metadata": {},
   "source": [
    "how about users?"
   ]
  },
  {
   "cell_type": "code",
   "execution_count": 17,
   "id": "pursuant-laser",
   "metadata": {},
   "outputs": [],
   "source": [
    "useriddf = tweets[['date_hour','author_id']].drop_duplicates()"
   ]
  },
  {
   "cell_type": "code",
   "execution_count": 18,
   "id": "coordinated-craft",
   "metadata": {},
   "outputs": [
    {
     "data": {
      "text/plain": [
       "302699"
      ]
     },
     "execution_count": 18,
     "metadata": {},
     "output_type": "execute_result"
    }
   ],
   "source": [
    "len(useriddf.author_id.unique())"
   ]
  },
  {
   "cell_type": "code",
   "execution_count": 19,
   "id": "based-advertising",
   "metadata": {},
   "outputs": [],
   "source": [
    "usercount = pd.DataFrame(useriddf.groupby('date_hour').author_id.count())"
   ]
  },
  {
   "cell_type": "code",
   "execution_count": 20,
   "id": "streaming-chester",
   "metadata": {},
   "outputs": [],
   "source": [
    "usercount = usercount.reset_index()"
   ]
  },
  {
   "cell_type": "code",
   "execution_count": 21,
   "id": "golden-reconstruction",
   "metadata": {},
   "outputs": [
    {
     "name": "stdout",
     "output_type": "stream",
     "text": [
      "<class 'pandas.core.frame.DataFrame'>\n",
      "RangeIndex: 232 entries, 0 to 231\n",
      "Data columns (total 2 columns):\n",
      " #   Column     Non-Null Count  Dtype \n",
      "---  ------     --------------  ----- \n",
      " 0   date_hour  232 non-null    object\n",
      " 1   author_id  232 non-null    int64 \n",
      "dtypes: int64(1), object(1)\n",
      "memory usage: 3.8+ KB\n"
     ]
    }
   ],
   "source": [
    "usercount.info()"
   ]
  },
  {
   "cell_type": "code",
   "execution_count": 22,
   "id": "forty-navigator",
   "metadata": {
    "scrolled": true
   },
   "outputs": [
    {
     "name": "stdout",
     "output_type": "stream",
     "text": [
      "Hourly user count\n"
     ]
    },
    {
     "data": {
      "image/png": "[encoded data removed]",
      "text/plain": [
       "<Figure size 1440x432 with 1 Axes>"
      ]
     },
     "metadata": {
      "needs_background": "light"
     },
     "output_type": "display_data"
    }
   ],
   "source": [
    "print('Hourly user count')\n",
    "fig, axs = plt.subplots(1, 1,figsize=(20, 6))\n",
    "sns.barplot(usercount.date_hour, usercount.author_id, color = 'grey')\n",
    "plt.xticks(rotation= 45);"
   ]
  },
  {
   "cell_type": "markdown",
   "id": "international-button",
   "metadata": {},
   "source": [
    "We can see that the volume of tweets have risen, but not as dramatically as the volume of users"
   ]
  },
  {
   "cell_type": "markdown",
   "id": "nasty-pavilion",
   "metadata": {},
   "source": [
    "Taking a sampling of...the tweets? the users? their interaction? Or just using the network graphs?"
   ]
  },
  {
   "cell_type": "markdown",
   "id": "engaged-masters",
   "metadata": {},
   "source": [
    "taking a sampling of users by hour, and if a spammy account posts a lot then we'll see...."
   ]
  },
  {
   "cell_type": "code",
   "execution_count": 23,
   "id": "discrete-custody",
   "metadata": {},
   "outputs": [],
   "source": [
    "userbyhour = pd.DataFrame(useriddf.groupby('date_hour').author_id.unique())"
   ]
  },
  {
   "cell_type": "code",
   "execution_count": 24,
   "id": "genetic-expense",
   "metadata": {},
   "outputs": [
    {
     "data": {
      "text/html": [
       "<div>\n",
       "<style scoped>\n",
       "    .dataframe tbody tr th:only-of-type {\n",
       "        vertical-align: middle;\n",
       "    }\n",
       "\n",
       "    .dataframe tbody tr th {\n",
       "        vertical-align: top;\n",
       "    }\n",
       "\n",
       "    .dataframe thead th {\n",
       "        text-align: right;\n",
       "    }\n",
       "</style>\n",
       "<table border=\"1\" class=\"dataframe\">\n",
       "  <thead>\n",
       "    <tr style=\"text-align: right;\">\n",
       "      <th></th>\n",
       "      <th>author_id</th>\n",
       "    </tr>\n",
       "    <tr>\n",
       "      <th>date_hour</th>\n",
       "      <th></th>\n",
       "    </tr>\n",
       "  </thead>\n",
       "  <tbody>\n",
       "    <tr>\n",
       "      <th>2022-11-21-22</th>\n",
       "      <td>[1144696833588903936, 1572752280381702147, 150...</td>\n",
       "    </tr>\n",
       "    <tr>\n",
       "      <th>2022-11-21-23</th>\n",
       "      <td>[1156166393798094848, 1316704549374103554, 146...</td>\n",
       "    </tr>\n",
       "    <tr>\n",
       "      <th>2022-11-22-0</th>\n",
       "      <td>[1531024932884434956, 1087714082055024641, 155...</td>\n",
       "    </tr>\n",
       "    <tr>\n",
       "      <th>2022-11-22-1</th>\n",
       "      <td>[1519702168378515456, 1539305919661518853, 980...</td>\n",
       "    </tr>\n",
       "    <tr>\n",
       "      <th>2022-11-22-10</th>\n",
       "      <td>[1421333745794048003, 1260911498198544385, 149...</td>\n",
       "    </tr>\n",
       "  </tbody>\n",
       "</table>\n",
       "</div>"
      ],
      "text/plain": [
       "                                                       author_id\n",
       "date_hour                                                       \n",
       "2022-11-21-22  [1144696833588903936, 1572752280381702147, 150...\n",
       "2022-11-21-23  [1156166393798094848, 1316704549374103554, 146...\n",
       "2022-11-22-0   [1531024932884434956, 1087714082055024641, 155...\n",
       "2022-11-22-1   [1519702168378515456, 1539305919661518853, 980...\n",
       "2022-11-22-10  [1421333745794048003, 1260911498198544385, 149..."
      ]
     },
     "execution_count": 24,
     "metadata": {},
     "output_type": "execute_result"
    }
   ],
   "source": [
    "userbyhour.head()"
   ]
  },
  {
   "cell_type": "code",
   "execution_count": 25,
   "id": "industrial-resident",
   "metadata": {},
   "outputs": [],
   "source": [
    "userbyhour['idcount'] = [len(x) for x in userbyhour.author_id]"
   ]
  },
  {
   "cell_type": "code",
   "execution_count": 26,
   "id": "therapeutic-advantage",
   "metadata": {},
   "outputs": [
    {
     "data": {
      "text/html": [
       "<div>\n",
       "<style scoped>\n",
       "    .dataframe tbody tr th:only-of-type {\n",
       "        vertical-align: middle;\n",
       "    }\n",
       "\n",
       "    .dataframe tbody tr th {\n",
       "        vertical-align: top;\n",
       "    }\n",
       "\n",
       "    .dataframe thead th {\n",
       "        text-align: right;\n",
       "    }\n",
       "</style>\n",
       "<table border=\"1\" class=\"dataframe\">\n",
       "  <thead>\n",
       "    <tr style=\"text-align: right;\">\n",
       "      <th></th>\n",
       "      <th>author_id</th>\n",
       "      <th>idcount</th>\n",
       "    </tr>\n",
       "    <tr>\n",
       "      <th>date_hour</th>\n",
       "      <th></th>\n",
       "      <th></th>\n",
       "    </tr>\n",
       "  </thead>\n",
       "  <tbody>\n",
       "    <tr>\n",
       "      <th>2022-11-27-15</th>\n",
       "      <td>[1550364051439755265, 1590368298935402496, 158...</td>\n",
       "      <td>13429</td>\n",
       "    </tr>\n",
       "  </tbody>\n",
       "</table>\n",
       "</div>"
      ],
      "text/plain": [
       "                                                       author_id  idcount\n",
       "date_hour                                                                \n",
       "2022-11-27-15  [1550364051439755265, 1590368298935402496, 158...    13429"
      ]
     },
     "execution_count": 26,
     "metadata": {},
     "output_type": "execute_result"
    }
   ],
   "source": [
    "userbyhour[userbyhour.idcount == 13429]"
   ]
  },
  {
   "cell_type": "code",
   "execution_count": 27,
   "id": "southeast-great",
   "metadata": {},
   "outputs": [
    {
     "data": {
      "text/plain": [
       "date_hour\n",
       "2022-11-22-20      861\n",
       "2022-11-21-22      897\n",
       "2022-11-22-21      910\n",
       "2022-11-23-20      928\n",
       "2022-11-22-19      928\n",
       "                 ...  \n",
       "2022-11-27-9     10325\n",
       "2022-11-27-13    11476\n",
       "2022-11-27-16    11623\n",
       "2022-11-27-15    13429\n",
       "2022-11-27-14    13617\n",
       "Name: idcount, Length: 232, dtype: int64"
      ]
     },
     "execution_count": 27,
     "metadata": {},
     "output_type": "execute_result"
    }
   ],
   "source": [
    "userbyhour.idcount.sort_values()"
   ]
  },
  {
   "cell_type": "markdown",
   "id": "frozen-notification",
   "metadata": {},
   "source": [
    "pulling out this slice"
   ]
  },
  {
   "cell_type": "markdown",
   "id": "strange-morocco",
   "metadata": {},
   "source": [
    "next - get a slice of the network and visualize"
   ]
  },
  {
   "cell_type": "code",
   "execution_count": 28,
   "id": "expired-cargo",
   "metadata": {},
   "outputs": [],
   "source": [
    "tweets['ref_type'] = [x.split(',')[0].split(':')[1] if pd.isna(x) == False else x for x in tweets.referenced_tweets ]"
   ]
  },
  {
   "cell_type": "code",
   "execution_count": 29,
   "id": "creative-doubt",
   "metadata": {},
   "outputs": [],
   "source": [
    "tweets['ref_id'] = [x.split(',')[1].split(':')[1] if pd.isna(x) == False else x for x in tweets.referenced_tweets ]"
   ]
  },
  {
   "cell_type": "code",
   "execution_count": 30,
   "id": "quick-notification",
   "metadata": {},
   "outputs": [],
   "source": [
    "tweets.ref_type = tweets.ref_type.str.replace(\"'\",\"\")"
   ]
  },
  {
   "cell_type": "code",
   "execution_count": 31,
   "id": "absolute-trunk",
   "metadata": {},
   "outputs": [],
   "source": [
    "tweets.ref_id = tweets.ref_id.str.replace(\"'\",\"\").str.replace('}','').str.replace(']','')"
   ]
  },
  {
   "cell_type": "code",
   "execution_count": 32,
   "id": "automatic-disaster",
   "metadata": {},
   "outputs": [],
   "source": [
    "tweets.id = tweets.id.astype(str)"
   ]
  },
  {
   "cell_type": "code",
   "execution_count": 33,
   "id": "engaging-china",
   "metadata": {
    "scrolled": true
   },
   "outputs": [],
   "source": [
    "peaktweets = tweets[(tweets.date_hour == '2022-11-27-14')].copy()"
   ]
  },
  {
   "cell_type": "code",
   "execution_count": 34,
   "id": "exciting-northeast",
   "metadata": {},
   "outputs": [
    {
     "name": "stdout",
     "output_type": "stream",
     "text": [
      "<class 'pandas.core.frame.DataFrame'>\n",
      "Int64Index: 35762 entries, 763323 to 799084\n",
      "Data columns (total 26 columns):\n",
      " #   Column                  Non-Null Count  Dtype              \n",
      "---  ------                  --------------  -----              \n",
      " 0   referenced_tweets       24353 non-null  object             \n",
      " 1   created_at              35762 non-null  datetime64[ns, UTC]\n",
      " 2   conversation_id         35762 non-null  int64              \n",
      " 3   reply_settings          35762 non-null  object             \n",
      " 4   author_id               35762 non-null  int64              \n",
      " 5   edit_history_tweet_ids  35762 non-null  object             \n",
      " 6   entities                35529 non-null  object             \n",
      " 7   possibly_sensitive      35762 non-null  bool               \n",
      " 8   lang                    35762 non-null  object             \n",
      " 9   attachments             26405 non-null  object             \n",
      " 10  text                    35762 non-null  object             \n",
      " 11  id                      35762 non-null  object             \n",
      " 12  source                  35762 non-null  object             \n",
      " 13  context_annotations     10749 non-null  object             \n",
      " 14  in_reply_to_user_id     1103 non-null   float64            \n",
      " 15  geo                     45 non-null     object             \n",
      " 16  withheld                2 non-null      object             \n",
      " 17  retweet_count           35762 non-null  int64              \n",
      " 18  reply_count             35762 non-null  int64              \n",
      " 19  like_count              35762 non-null  int64              \n",
      " 20  quote_count             35762 non-null  int64              \n",
      " 21  date                    35762 non-null  object             \n",
      " 22  hour                    35762 non-null  int64              \n",
      " 23  date_hour               35762 non-null  object             \n",
      " 24  ref_type                24353 non-null  object             \n",
      " 25  ref_id                  24353 non-null  object             \n",
      "dtypes: bool(1), datetime64[ns, UTC](1), float64(1), int64(7), object(16)\n",
      "memory usage: 7.1+ MB\n"
     ]
    }
   ],
   "source": [
    "peaktweets.info()"
   ]
  },
  {
   "cell_type": "raw",
   "id": "auburn-worry",
   "metadata": {},
   "source": [
    "peaktweets['id'].to_csv('20221129_peak_tweets_for_node_xl_updated.csv')"
   ]
  },
  {
   "cell_type": "code",
   "execution_count": 35,
   "id": "trained-smooth",
   "metadata": {
    "scrolled": true
   },
   "outputs": [],
   "source": [
    "beforefire_peaktweets = tweets[(tweets.date_hour == '2022-11-21-22')].copy()"
   ]
  },
  {
   "cell_type": "code",
   "execution_count": 36,
   "id": "optional-singapore",
   "metadata": {
    "scrolled": true
   },
   "outputs": [
    {
     "data": {
      "text/plain": [
       "126293    Quentin MacMillan  #上海  Dale Snow  #上海线下    Su...\n",
       "126294    全球高端外围预约 VX:jlm222266 QQ:2862735422    ||上海嫩模 ...\n",
       "126295    torch, illuminating1  0.0D6  #广州 #南京 #苏州 https...\n",
       "126296    s that you have reache0026#上海 #线下  #上海  #外围 ht...\n",
       "126297    成都大麻 中国大麻\\n品质保证 欢迎咨询\\n成都可面 绝对真实\\n认准id\\n\\nhttps...\n",
       "Name: text, dtype: object"
      ]
     },
     "execution_count": 36,
     "metadata": {},
     "output_type": "execute_result"
    }
   ],
   "source": [
    "beforefire_peaktweets.text.head()"
   ]
  },
  {
   "cell_type": "raw",
   "id": "cloudy-electronics",
   "metadata": {},
   "source": [
    "beforefire_peaktweets['id'].to_csv('20221129_peak_tweets_before_fire_for_NodeXL.csv')"
   ]
  },
  {
   "cell_type": "code",
   "execution_count": 37,
   "id": "vanilla-neutral",
   "metadata": {},
   "outputs": [],
   "source": [
    "cutoff = pd.to_datetime('2022-11-24T11:50:00Z')"
   ]
  },
  {
   "cell_type": "code",
   "execution_count": 38,
   "id": "familiar-alpha",
   "metadata": {},
   "outputs": [],
   "source": [
    "tranche = cutoff - tweets.created_at.min()"
   ]
  },
  {
   "cell_type": "code",
   "execution_count": 39,
   "id": "extended-stick",
   "metadata": {},
   "outputs": [
    {
     "data": {
      "text/plain": [
       "Timestamp('2022-11-27 01:37:00+0000', tz='UTC')"
      ]
     },
     "execution_count": 39,
     "metadata": {},
     "output_type": "execute_result"
    }
   ],
   "source": [
    "cutoff + tranche"
   ]
  },
  {
   "cell_type": "code",
   "execution_count": 40,
   "id": "clean-albania",
   "metadata": {},
   "outputs": [
    {
     "data": {
      "text/plain": [
       "Timestamp('2022-11-29 15:24:00+0000', tz='UTC')"
      ]
     },
     "execution_count": 40,
     "metadata": {},
     "output_type": "execute_result"
    }
   ],
   "source": [
    "cutoff + tranche *2"
   ]
  },
  {
   "cell_type": "code",
   "execution_count": 41,
   "id": "forbidden-rings",
   "metadata": {},
   "outputs": [
    {
     "data": {
      "text/plain": [
       "Timestamp('2022-12-01 13:59:59+0000', tz='UTC')"
      ]
     },
     "execution_count": 41,
     "metadata": {},
     "output_type": "execute_result"
    }
   ],
   "source": [
    "tweets.created_at.max()"
   ]
  },
  {
   "cell_type": "code",
   "execution_count": 42,
   "id": "verbal-algeria",
   "metadata": {},
   "outputs": [],
   "source": [
    "tweetsbyid = pd.DataFrame(tweets.groupby(['author_id','date'])['id'].count())"
   ]
  },
  {
   "cell_type": "code",
   "execution_count": 43,
   "id": "growing-brunei",
   "metadata": {},
   "outputs": [],
   "source": [
    "tweetsbyid.columns = ['tweet_count']"
   ]
  },
  {
   "cell_type": "code",
   "execution_count": 44,
   "id": "controlled-segment",
   "metadata": {},
   "outputs": [],
   "source": [
    "tweetsbyid = tweetsbyid.reset_index()"
   ]
  },
  {
   "cell_type": "code",
   "execution_count": 45,
   "id": "boxed-maple",
   "metadata": {},
   "outputs": [],
   "source": [
    "maybebots = tweetsbyid[tweetsbyid.tweet_count >= 72]"
   ]
  },
  {
   "cell_type": "code",
   "execution_count": 46,
   "id": "educational-block",
   "metadata": {},
   "outputs": [
    {
     "data": {
      "text/plain": [
       "4143"
      ]
     },
     "execution_count": 46,
     "metadata": {},
     "output_type": "execute_result"
    }
   ],
   "source": [
    "len(maybebots.author_id.unique())"
   ]
  },
  {
   "cell_type": "code",
   "execution_count": 47,
   "id": "southwest-music",
   "metadata": {},
   "outputs": [],
   "source": [
    "maybebotspv = pd.pivot_table(maybebots, values = 'tweet_count', index = 'author_id', columns = 'date')"
   ]
  },
  {
   "cell_type": "code",
   "execution_count": 48,
   "id": "driven-silence",
   "metadata": {},
   "outputs": [],
   "source": [
    "maybebotspv = maybebotspv.reset_index()"
   ]
  },
  {
   "cell_type": "code",
   "execution_count": 49,
   "id": "vertical-butler",
   "metadata": {
    "scrolled": true
   },
   "outputs": [
    {
     "name": "stdout",
     "output_type": "stream",
     "text": [
      "<class 'pandas.core.frame.DataFrame'>\n",
      "RangeIndex: 4143 entries, 0 to 4142\n",
      "Data columns (total 12 columns):\n",
      " #   Column      Non-Null Count  Dtype  \n",
      "---  ------      --------------  -----  \n",
      " 0   author_id   4143 non-null   int64  \n",
      " 1   2022-11-21  53 non-null     float64\n",
      " 2   2022-11-22  626 non-null    float64\n",
      " 3   2022-11-23  622 non-null    float64\n",
      " 4   2022-11-24  558 non-null    float64\n",
      " 5   2022-11-25  637 non-null    float64\n",
      " 6   2022-11-26  737 non-null    float64\n",
      " 7   2022-11-27  879 non-null    float64\n",
      " 8   2022-11-28  1310 non-null   float64\n",
      " 9   2022-11-29  434 non-null    float64\n",
      " 10  2022-11-30  245 non-null    float64\n",
      " 11  2022-12-01  516 non-null    float64\n",
      "dtypes: float64(11), int64(1)\n",
      "memory usage: 388.5 KB\n"
     ]
    }
   ],
   "source": [
    "maybebotspv.info()"
   ]
  },
  {
   "cell_type": "code",
   "execution_count": 50,
   "id": "solved-arctic",
   "metadata": {},
   "outputs": [],
   "source": [
    "maybebotspv.author_id = maybebotspv.author_id.astype(str)"
   ]
  },
  {
   "cell_type": "code",
   "execution_count": 52,
   "id": "posted-cricket",
   "metadata": {},
   "outputs": [
    {
     "data": {
      "text/html": [
       "<div>\n",
       "<style scoped>\n",
       "    .dataframe tbody tr th:only-of-type {\n",
       "        vertical-align: middle;\n",
       "    }\n",
       "\n",
       "    .dataframe tbody tr th {\n",
       "        vertical-align: top;\n",
       "    }\n",
       "\n",
       "    .dataframe thead th {\n",
       "        text-align: right;\n",
       "    }\n",
       "</style>\n",
       "<table border=\"1\" class=\"dataframe\">\n",
       "  <thead>\n",
       "    <tr style=\"text-align: right;\">\n",
       "      <th>date</th>\n",
       "      <th>author_id</th>\n",
       "      <th>2022-11-21</th>\n",
       "      <th>2022-11-22</th>\n",
       "      <th>2022-11-23</th>\n",
       "      <th>2022-11-24</th>\n",
       "      <th>2022-11-25</th>\n",
       "      <th>2022-11-26</th>\n",
       "      <th>2022-11-27</th>\n",
       "      <th>2022-11-28</th>\n",
       "      <th>2022-11-29</th>\n",
       "      <th>2022-11-30</th>\n",
       "      <th>2022-12-01</th>\n",
       "    </tr>\n",
       "  </thead>\n",
       "  <tbody>\n",
       "    <tr>\n",
       "      <th>0</th>\n",
       "      <td>23749001</td>\n",
       "      <td>NaN</td>\n",
       "      <td>NaN</td>\n",
       "      <td>NaN</td>\n",
       "      <td>NaN</td>\n",
       "      <td>NaN</td>\n",
       "      <td>NaN</td>\n",
       "      <td>145.0</td>\n",
       "      <td>NaN</td>\n",
       "      <td>NaN</td>\n",
       "      <td>NaN</td>\n",
       "      <td>NaN</td>\n",
       "    </tr>\n",
       "    <tr>\n",
       "      <th>1</th>\n",
       "      <td>25390452</td>\n",
       "      <td>NaN</td>\n",
       "      <td>NaN</td>\n",
       "      <td>356.0</td>\n",
       "      <td>1315.0</td>\n",
       "      <td>1277.0</td>\n",
       "      <td>567.0</td>\n",
       "      <td>NaN</td>\n",
       "      <td>NaN</td>\n",
       "      <td>NaN</td>\n",
       "      <td>NaN</td>\n",
       "      <td>NaN</td>\n",
       "    </tr>\n",
       "    <tr>\n",
       "      <th>2</th>\n",
       "      <td>26617160</td>\n",
       "      <td>NaN</td>\n",
       "      <td>NaN</td>\n",
       "      <td>NaN</td>\n",
       "      <td>NaN</td>\n",
       "      <td>NaN</td>\n",
       "      <td>NaN</td>\n",
       "      <td>NaN</td>\n",
       "      <td>123.0</td>\n",
       "      <td>NaN</td>\n",
       "      <td>NaN</td>\n",
       "      <td>NaN</td>\n",
       "    </tr>\n",
       "    <tr>\n",
       "      <th>3</th>\n",
       "      <td>41656176</td>\n",
       "      <td>NaN</td>\n",
       "      <td>NaN</td>\n",
       "      <td>NaN</td>\n",
       "      <td>NaN</td>\n",
       "      <td>NaN</td>\n",
       "      <td>NaN</td>\n",
       "      <td>76.0</td>\n",
       "      <td>NaN</td>\n",
       "      <td>NaN</td>\n",
       "      <td>NaN</td>\n",
       "      <td>NaN</td>\n",
       "    </tr>\n",
       "    <tr>\n",
       "      <th>4</th>\n",
       "      <td>45577593</td>\n",
       "      <td>NaN</td>\n",
       "      <td>NaN</td>\n",
       "      <td>NaN</td>\n",
       "      <td>NaN</td>\n",
       "      <td>NaN</td>\n",
       "      <td>NaN</td>\n",
       "      <td>72.0</td>\n",
       "      <td>NaN</td>\n",
       "      <td>NaN</td>\n",
       "      <td>NaN</td>\n",
       "      <td>NaN</td>\n",
       "    </tr>\n",
       "  </tbody>\n",
       "</table>\n",
       "</div>"
      ],
      "text/plain": [
       "date author_id  2022-11-21  2022-11-22  2022-11-23  2022-11-24  2022-11-25  \\\n",
       "0     23749001         NaN         NaN         NaN         NaN         NaN   \n",
       "1     25390452         NaN         NaN       356.0      1315.0      1277.0   \n",
       "2     26617160         NaN         NaN         NaN         NaN         NaN   \n",
       "3     41656176         NaN         NaN         NaN         NaN         NaN   \n",
       "4     45577593         NaN         NaN         NaN         NaN         NaN   \n",
       "\n",
       "date  2022-11-26  2022-11-27  2022-11-28  2022-11-29  2022-11-30  2022-12-01  \n",
       "0            NaN       145.0         NaN         NaN         NaN         NaN  \n",
       "1          567.0         NaN         NaN         NaN         NaN         NaN  \n",
       "2            NaN         NaN       123.0         NaN         NaN         NaN  \n",
       "3            NaN        76.0         NaN         NaN         NaN         NaN  \n",
       "4            NaN        72.0         NaN         NaN         NaN         NaN  "
      ]
     },
     "execution_count": 52,
     "metadata": {},
     "output_type": "execute_result"
    }
   ],
   "source": [
    "maybebotspv.head()"
   ]
  },
  {
   "cell_type": "raw",
   "id": "polished-harvest",
   "metadata": {},
   "source": [
    "maybebotspv.to_csv('20221202_bots_csv.csv')"
   ]
  }
 ],
 "metadata": {
  "kernelspec": {
   "display_name": "Python 3",
   "language": "python",
   "name": "python3"
  },
  "language_info": {
   "codemirror_mode": {
    "name": "ipython",
    "version": 3
   },
   "file_extension": ".py",
   "mimetype": "text/x-python",
   "name": "python",
   "nbconvert_exporter": "python",
   "pygments_lexer": "ipython3",
   "version": "3.6.12"
  }
 },
 "nbformat": 4,
 "nbformat_minor": 5
}
